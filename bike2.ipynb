{
 "metadata": {
  "language_info": {
   "codemirror_mode": {
    "name": "ipython",
    "version": 3
   },
   "file_extension": ".py",
   "mimetype": "text/x-python",
   "name": "python",
   "nbconvert_exporter": "python",
   "pygments_lexer": "ipython3",
   "version": "3.7.7-final"
  },
  "orig_nbformat": 2,
  "kernelspec": {
   "name": "python3",
   "display_name": "Python 3",
   "language": "python"
  }
 },
 "nbformat": 4,
 "nbformat_minor": 2,
 "cells": [
  {
   "cell_type": "code",
   "execution_count": 3,
   "metadata": {},
   "outputs": [],
   "source": [
    "import pandas as pd\n",
    "import numpy as np \n",
    "import seaborn as sns\n",
    "import matplotlib.pyplot as plt \n",
    "from sklearn.model_selection import train_test_split\n",
    "from collections import Counter\n",
    "from sklearn.preprocessing import StandardScaler\n",
    "from sklearn.preprocessing import LabelEncoder, OneHotEncoder\n",
    "from sklearn.metrics import accuracy_score, confusion_matrix "
   ]
  },
  {
   "cell_type": "code",
   "execution_count": 4,
   "metadata": {},
   "outputs": [],
   "source": [
    "bike_data1=pd.read_csv('201901-capitalbikeshare-tripdata.csv', sep=',')\n",
    "bike_data2=pd.read_csv('201902-capitalbikeshare-tripdata.csv', sep=',')\n",
    "bike_data3=pd.read_csv('201903-capitalbikeshare-tripdata.csv', sep=',')\n",
    "bike_data4=pd.read_csv('201904-capitalbikeshare-tripdata.csv', sep=',')\n",
    "bike_data5=pd.read_csv('201905-capitalbikeshare-tripdata.csv', sep=',')\n",
    "bike_data6=pd.read_csv('201906-capitalbikeshare-tripdata.csv', sep=',')\n",
    "bike_data7=pd.read_csv('201907-capitalbikeshare-tripdata', sep=',')\n",
    "bike_data8=pd.read_csv('201908-capitalbikeshare-tripdata.csv', sep=',')\n",
    "bike_data9=pd.read_csv('201909-capitalbikeshare-tripdata.csv', sep=',')\n",
    "bike_data10=pd.read_csv('201910-capitalbikeshare-tripdata.csv', sep=',')\n",
    "bike_data11=pd.read_csv('201911-capitalbikeshare-tripdata.csv', sep=',')\n",
    "bike_data12=pd.read_csv('201912-capitalbikeshare-tripdata.csv', sep=',')"
   ]
  },
  {
   "cell_type": "code",
   "execution_count": 5,
   "metadata": {},
   "outputs": [],
   "source": [
    "bike_data1['month']=1\n",
    "bike_data1['season']=1\n",
    "bike_data2['month']=2\n",
    "bike_data2['season']=1\n",
    "bike_data3['month']=3\n",
    "bike_data3['season']=2\n",
    "bike_data4['month']=4\n",
    "bike_data4['season']=2\n",
    "bike_data5['month']=5\n",
    "bike_data5['season']=2\n",
    "bike_data6['month']=6\n",
    "bike_data6['season']=3\n",
    "bike_data7['month']=7\n",
    "bike_data7['season']=3\n",
    "bike_data8['month']=8\n",
    "bike_data8['season']=3\n",
    "bike_data9['month']=9\n",
    "bike_data9['season']=4\n",
    "bike_data10['month']=10\n",
    "bike_data10['season']=4\n",
    "bike_data11['month']=11\n",
    "bike_data11['season']=4\n",
    "bike_data12['month']=12\n",
    "bike_data12['season']=1\n"
   ]
  },
  {
   "cell_type": "code",
   "execution_count": 6,
   "metadata": {},
   "outputs": [],
   "source": [
    "bike_data=pd.concat([bike_data1,bike_data2,bike_data3,bike_data4,bike_data5,bike_data6,bike_data7,bike_data8,bike_data9,bike_data10,bike_data11,bike_data12 ])"
   ]
  },
  {
   "cell_type": "code",
   "execution_count": 108,
   "metadata": {},
   "outputs": [],
   "source": [
    "from datetime import timedelta\n",
    "startyear=datetime(2019,1,1,0,0,0,0)\n",
    "bike_data['ordday']=(bike_data['Start date']-startyear).astype('timedelta64[D]')"
   ]
  },
  {
   "cell_type": "code",
   "execution_count": 118,
   "metadata": {},
   "outputs": [],
   "source": [
    "ordday=list(bike_data['ordday'])\n",
    "dates=[]\n",
    "for j in range(365):\n",
    "    dates.append(ordday.count(j))"
   ]
  },
  {
   "cell_type": "code",
   "execution_count": 150,
   "metadata": {},
   "outputs": [],
   "source": [
    "from pandas import DataFrame\n",
    "df = DataFrame (dates,columns=['Number of customers'])\n",
    "datess=[]\n",
    "for j in range(365):\n",
    "    datess.append(startyear+timedelta(days=j))\n",
    "df['Day']=datess\n",
    "df['weekday']=(df['Day']).dt.weekday\n",
    "df['isholiday']=df['Day'].apply(lambda value: 1 if ('20'+(value.strftime(\"%y-%m-%d\")) in us_holidays) else 0)\n",
    "df['workingday'] = df[['isholiday','weekday']].apply(lambda x: 0 if (x['weekday'] in [6,7] or x['isholiday']==1) else 1, axis=1)\n",
    "df['month']=(df['Day']).dt.month\n",
    "df.loc[df['month']  ==1, 'Season'] = 'Winter' \n",
    "df.loc[df['month'] ==2, 'Season'] = 'Winter' \n",
    "df.loc[df['month'] ==12, 'Season'] = 'Winter' \n",
    "df.loc[df['month'] ==3, 'Season'] = 'Spring' \n",
    "df.loc[df['month'] ==4, 'Season'] = 'Spring' \n",
    "df.loc[df['month'] ==5, 'Season'] = 'Spring' \n",
    "df.loc[df['month'] ==6, 'Season'] = 'Summer' \n",
    "df.loc[df['month'] ==7, 'Season'] = 'Summer' \n",
    "df.loc[df['month'] ==8, 'Season'] = 'Summer' \n",
    "df.loc[df['month'] ==9, 'Season'] = 'Fall' \n",
    "df.loc[df['month'] ==10, 'Season'] = 'Fall' \n",
    "df.loc[df['month'] ==11, 'Season'] = 'Fall' \n"
   ]
  },
  {
   "cell_type": "code",
   "execution_count": 157,
   "metadata": {},
   "outputs": [
    {
     "output_type": "execute_result",
     "data": {
      "text/plain": [
       "   Number of casual customers        Day  weekday  isholiday  workingday  \\\n",
       "0                        1083 2019-01-01        1          1           0   \n",
       "1                         660 2019-01-02        2          0           1   \n",
       "2                         938 2019-01-03        3          0           1   \n",
       "3                         848 2019-01-04        4          0           1   \n",
       "4                         701 2019-01-05        5          0           1   \n",
       "\n",
       "   month  Season  \n",
       "0      1  Winter  \n",
       "1      1  Winter  \n",
       "2      1  Winter  \n",
       "3      1  Winter  \n",
       "4      1  Winter  "
      ],
      "text/html": "<div>\n<style scoped>\n    .dataframe tbody tr th:only-of-type {\n        vertical-align: middle;\n    }\n\n    .dataframe tbody tr th {\n        vertical-align: top;\n    }\n\n    .dataframe thead th {\n        text-align: right;\n    }\n</style>\n<table border=\"1\" class=\"dataframe\">\n  <thead>\n    <tr style=\"text-align: right;\">\n      <th></th>\n      <th>Number of casual customers</th>\n      <th>Day</th>\n      <th>weekday</th>\n      <th>isholiday</th>\n      <th>workingday</th>\n      <th>month</th>\n      <th>Season</th>\n    </tr>\n  </thead>\n  <tbody>\n    <tr>\n      <th>0</th>\n      <td>1083</td>\n      <td>2019-01-01</td>\n      <td>1</td>\n      <td>1</td>\n      <td>0</td>\n      <td>1</td>\n      <td>Winter</td>\n    </tr>\n    <tr>\n      <th>1</th>\n      <td>660</td>\n      <td>2019-01-02</td>\n      <td>2</td>\n      <td>0</td>\n      <td>1</td>\n      <td>1</td>\n      <td>Winter</td>\n    </tr>\n    <tr>\n      <th>2</th>\n      <td>938</td>\n      <td>2019-01-03</td>\n      <td>3</td>\n      <td>0</td>\n      <td>1</td>\n      <td>1</td>\n      <td>Winter</td>\n    </tr>\n    <tr>\n      <th>3</th>\n      <td>848</td>\n      <td>2019-01-04</td>\n      <td>4</td>\n      <td>0</td>\n      <td>1</td>\n      <td>1</td>\n      <td>Winter</td>\n    </tr>\n    <tr>\n      <th>4</th>\n      <td>701</td>\n      <td>2019-01-05</td>\n      <td>5</td>\n      <td>0</td>\n      <td>1</td>\n      <td>1</td>\n      <td>Winter</td>\n    </tr>\n  </tbody>\n</table>\n</div>"
     },
     "metadata": {},
     "execution_count": 157
    }
   ],
   "source": [
    "df3.head()"
   ]
  },
  {
   "cell_type": "code",
   "execution_count": 144,
   "metadata": {},
   "outputs": [],
   "source": [
    "member_data=bike_data[bike_data['Member type']=='Member']\n",
    "casual_data=bike_data[bike_data['Member type']=='Casual']"
   ]
  },
  {
   "cell_type": "code",
   "execution_count": 145,
   "metadata": {},
   "outputs": [],
   "source": [
    "from datetime import timedelta\n",
    "startyear=datetime(2019,1,1,0,0,0,0)\n",
    "member_data['ordday']=(member_data['Start date']-startyear).astype('timedelta64[D]')\n",
    "casual_data['ordday']=(casual_data['Start date']-startyear).astype('timedelta64[D]')"
   ]
  },
  {
   "cell_type": "code",
   "execution_count": 147,
   "metadata": {},
   "outputs": [],
   "source": [
    "mordday=list(member_data['ordday'])\n",
    "mdates=[]\n",
    "for j in range(365):\n",
    "    mdates.append(mordday.count(j))\n",
    "cordday=list(casual_data['ordday'])\n",
    "cdates=[]\n",
    "for j in range(365):\n",
    "    cdates.append(cordday.count(j))"
   ]
  },
  {
   "cell_type": "code",
   "execution_count": 152,
   "metadata": {},
   "outputs": [],
   "source": [
    "from pandas import DataFrame\n",
    "df2 = DataFrame (mdates,columns=['Number of registered customers'])\n",
    "datess=[]\n",
    "for j in range(365):\n",
    "    datess.append(startyear+timedelta(days=j))\n",
    "df2['Day']=datess\n",
    "df2['weekday']=(df2['Day']).dt.weekday\n",
    "df2['isholiday']=df2['Day'].apply(lambda value: 1 if ('20'+(value.strftime(\"%y-%m-%d\")) in us_holidays) else 0)\n",
    "df2['workingday'] = df2[['isholiday','weekday']].apply(lambda x: 0 if (x['weekday'] in [6,7] or x['isholiday']==1) else 1, axis=1)\n",
    "df2['month']=(df2['Day']).dt.month\n",
    "df2.loc[df2['month']  ==1, 'Season'] = 'Winter' \n",
    "df2.loc[df2['month'] ==2, 'Season'] = 'Winter' \n",
    "df2.loc[df2['month'] ==12, 'Season'] = 'Winter' \n",
    "df2.loc[df2['month'] ==3, 'Season'] = 'Spring' \n",
    "df2.loc[df2['month'] ==4, 'Season'] = 'Spring' \n",
    "df2.loc[df2['month'] ==5, 'Season'] = 'Spring' \n",
    "df2.loc[df2['month'] ==6, 'Season'] = 'Summer' \n",
    "df2.loc[df2['month'] ==7, 'Season'] = 'Summer' \n",
    "df2.loc[df2['month'] ==8, 'Season'] = 'Summer' \n",
    "df2.loc[df2['month'] ==9, 'Season'] = 'Fall' \n",
    "df2.loc[df2['month'] ==10, 'Season'] = 'Fall' \n",
    "df2.loc[df2['month'] ==11, 'Season'] = 'Fall' "
   ]
  },
  {
   "cell_type": "code",
   "execution_count": 158,
   "metadata": {},
   "outputs": [
    {
     "output_type": "error",
     "ename": "ValueError",
     "evalue": "The truth value of a Series is ambiguous. Use a.empty, a.bool(), a.item(), a.any() or a.all().",
     "traceback": [
      "\u001b[0;31m---------------------------------------------------------------------------\u001b[0m",
      "\u001b[0;31mValueError\u001b[0m                                Traceback (most recent call last)",
      "\u001b[0;32m<ipython-input-158-bd125a5deed5>\u001b[0m in \u001b[0;36m<module>\u001b[0;34m\u001b[0m\n\u001b[1;32m      8\u001b[0m \u001b[0mdf3\u001b[0m\u001b[0;34m[\u001b[0m\u001b[0;34m'workingday'\u001b[0m\u001b[0;34m]\u001b[0m \u001b[0;34m=\u001b[0m \u001b[0mdf3\u001b[0m\u001b[0;34m[\u001b[0m\u001b[0;34m[\u001b[0m\u001b[0;34m'isholiday'\u001b[0m\u001b[0;34m,\u001b[0m\u001b[0;34m'weekday'\u001b[0m\u001b[0;34m]\u001b[0m\u001b[0;34m]\u001b[0m\u001b[0;34m.\u001b[0m\u001b[0mapply\u001b[0m\u001b[0;34m(\u001b[0m\u001b[0;32mlambda\u001b[0m \u001b[0mx\u001b[0m\u001b[0;34m:\u001b[0m \u001b[0;36m0\u001b[0m \u001b[0;32mif\u001b[0m \u001b[0;34m(\u001b[0m\u001b[0mx\u001b[0m\u001b[0;34m[\u001b[0m\u001b[0;34m'weekday'\u001b[0m\u001b[0;34m]\u001b[0m \u001b[0;32min\u001b[0m \u001b[0;34m[\u001b[0m\u001b[0;36m6\u001b[0m\u001b[0;34m,\u001b[0m\u001b[0;36m7\u001b[0m\u001b[0;34m]\u001b[0m \u001b[0;32mor\u001b[0m \u001b[0mx\u001b[0m\u001b[0;34m[\u001b[0m\u001b[0;34m'isholiday'\u001b[0m\u001b[0;34m]\u001b[0m\u001b[0;34m==\u001b[0m\u001b[0;36m1\u001b[0m\u001b[0;34m)\u001b[0m \u001b[0;32melse\u001b[0m \u001b[0;36m1\u001b[0m\u001b[0;34m,\u001b[0m \u001b[0maxis\u001b[0m\u001b[0;34m=\u001b[0m\u001b[0;36m1\u001b[0m\u001b[0;34m)\u001b[0m\u001b[0;34m\u001b[0m\u001b[0;34m\u001b[0m\u001b[0m\n\u001b[1;32m      9\u001b[0m \u001b[0mdf3\u001b[0m\u001b[0;34m[\u001b[0m\u001b[0;34m'month'\u001b[0m\u001b[0;34m]\u001b[0m\u001b[0;34m=\u001b[0m\u001b[0;34m(\u001b[0m\u001b[0mdf3\u001b[0m\u001b[0;34m[\u001b[0m\u001b[0;34m'Day'\u001b[0m\u001b[0;34m]\u001b[0m\u001b[0;34m)\u001b[0m\u001b[0;34m.\u001b[0m\u001b[0mdt\u001b[0m\u001b[0;34m.\u001b[0m\u001b[0mmonth\u001b[0m\u001b[0;34m\u001b[0m\u001b[0;34m\u001b[0m\u001b[0m\n\u001b[0;32m---> 10\u001b[0;31m \u001b[0mdf3\u001b[0m\u001b[0;34m.\u001b[0m\u001b[0mloc\u001b[0m\u001b[0;34m[\u001b[0m\u001b[0mdf3\u001b[0m\u001b[0;34m[\u001b[0m\u001b[0;34m'month'\u001b[0m\u001b[0;34m]\u001b[0m  \u001b[0;32min\u001b[0m \u001b[0;34m[\u001b[0m\u001b[0;36m1\u001b[0m\u001b[0;34m,\u001b[0m\u001b[0;36m2\u001b[0m\u001b[0;34m,\u001b[0m\u001b[0;36m12\u001b[0m\u001b[0;34m]\u001b[0m\u001b[0;34m,\u001b[0m \u001b[0;34m'Season'\u001b[0m\u001b[0;34m]\u001b[0m \u001b[0;34m=\u001b[0m \u001b[0;34m'Winter'\u001b[0m\u001b[0;34m\u001b[0m\u001b[0;34m\u001b[0m\u001b[0m\n\u001b[0m\u001b[1;32m     11\u001b[0m \u001b[0mdf3\u001b[0m\u001b[0;34m.\u001b[0m\u001b[0mloc\u001b[0m\u001b[0;34m[\u001b[0m\u001b[0mdf3\u001b[0m\u001b[0;34m[\u001b[0m\u001b[0;34m'month'\u001b[0m\u001b[0;34m]\u001b[0m \u001b[0;34m==\u001b[0m\u001b[0;36m2\u001b[0m\u001b[0;34m,\u001b[0m \u001b[0;34m'Season'\u001b[0m\u001b[0;34m]\u001b[0m \u001b[0;34m=\u001b[0m \u001b[0;34m'Winter'\u001b[0m\u001b[0;34m\u001b[0m\u001b[0;34m\u001b[0m\u001b[0m\n\u001b[1;32m     12\u001b[0m \u001b[0mdf3\u001b[0m\u001b[0;34m.\u001b[0m\u001b[0mloc\u001b[0m\u001b[0;34m[\u001b[0m\u001b[0mdf3\u001b[0m\u001b[0;34m[\u001b[0m\u001b[0;34m'month'\u001b[0m\u001b[0;34m]\u001b[0m \u001b[0;34m==\u001b[0m\u001b[0;36m12\u001b[0m\u001b[0;34m,\u001b[0m \u001b[0;34m'Season'\u001b[0m\u001b[0;34m]\u001b[0m \u001b[0;34m=\u001b[0m \u001b[0;34m'Winter'\u001b[0m\u001b[0;34m\u001b[0m\u001b[0;34m\u001b[0m\u001b[0m\n",
      "\u001b[0;32m/anaconda3/lib/python3.7/site-packages/pandas/core/generic.py\u001b[0m in \u001b[0;36m__nonzero__\u001b[0;34m(self)\u001b[0m\n\u001b[1;32m   1438\u001b[0m     \u001b[0;32mdef\u001b[0m \u001b[0m__nonzero__\u001b[0m\u001b[0;34m(\u001b[0m\u001b[0mself\u001b[0m\u001b[0;34m)\u001b[0m\u001b[0;34m:\u001b[0m\u001b[0;34m\u001b[0m\u001b[0;34m\u001b[0m\u001b[0m\n\u001b[1;32m   1439\u001b[0m         raise ValueError(\n\u001b[0;32m-> 1440\u001b[0;31m             \u001b[0;34mf\"The truth value of a {type(self).__name__} is ambiguous. \"\u001b[0m\u001b[0;34m\u001b[0m\u001b[0;34m\u001b[0m\u001b[0m\n\u001b[0m\u001b[1;32m   1441\u001b[0m             \u001b[0;34m\"Use a.empty, a.bool(), a.item(), a.any() or a.all().\"\u001b[0m\u001b[0;34m\u001b[0m\u001b[0;34m\u001b[0m\u001b[0m\n\u001b[1;32m   1442\u001b[0m         )\n",
      "\u001b[0;31mValueError\u001b[0m: The truth value of a Series is ambiguous. Use a.empty, a.bool(), a.item(), a.any() or a.all()."
     ]
    }
   ],
   "source": [
    "df3 = DataFrame (cdates,columns=['Number of casual customers'])\n",
    "datess=[]\n",
    "for j in range(365):\n",
    "    datess.append(startyear+timedelta(days=j))\n",
    "df3['Day']=datess\n",
    "df3['weekday']=(df3['Day']).dt.weekday\n",
    "df3['isholiday']=df3['Day'].apply(lambda value: 1 if ('20'+(value.strftime(\"%y-%m-%d\")) in us_holidays) else 0)\n",
    "df3['workingday'] = df3[['isholiday','weekday']].apply(lambda x: 0 if (x['weekday'] in [6,7] or x['isholiday']==1) else 1, axis=1)\n",
    "df3['month']=(df3['Day']).dt.month\n",
    "df3.loc[ df3['month']  ==1,'Season'] = 'Winter' \n",
    "df3.loc[df3['month'] ==2, 'Season'] = 'Winter' \n",
    "df3.loc[df3['month'] ==12, 'Season'] = 'Winter' \n",
    "df3.loc[df3['month'] ==3, 'Season'] = 'Spring' \n",
    "df3.loc[df3['month'] ==4, 'Season'] = 'Spring' \n",
    "df3.loc[df3['month'] ==5, 'Season'] = 'Spring' \n",
    "df3.loc[df3['month'] ==6, 'Season'] = 'Summer' \n",
    "df3.loc[df3['month'] ==7, 'Season'] = 'Summer' \n",
    "df3.loc[df3['month'] ==8, 'Season'] = 'Summer' \n",
    "df3.loc[df3['month'] ==9, 'Season'] = 'Fall' \n",
    "df3.loc[df3['month'] ==10, 'Season'] = 'Fall' \n",
    "df3.loc[df3['month'] ==11, 'Season'] = 'Fall' "
   ]
  },
  {
   "cell_type": "code",
   "execution_count": 162,
   "metadata": {},
   "outputs": [
    {
     "output_type": "execute_result",
     "data": {
      "text/plain": [
       "   Number of customers        Day  weekday  isholiday  workingday  month  \\\n",
       "0                 4540 2019-01-01        1          1           0      1   \n",
       "1                 6567 2019-01-02        2          0           1      1   \n",
       "2                 7604 2019-01-03        3          0           1      1   \n",
       "3                 7362 2019-01-04        4          0           1      1   \n",
       "4                 5106 2019-01-05        5          0           1      1   \n",
       "\n",
       "   Season  Casual Customers  Registered Customers  \n",
       "0  Winter              1083                  3457  \n",
       "1  Winter               660                  5907  \n",
       "2  Winter               938                  6666  \n",
       "3  Winter               848                  6514  \n",
       "4  Winter               701                  4405  "
      ],
      "text/html": "<div>\n<style scoped>\n    .dataframe tbody tr th:only-of-type {\n        vertical-align: middle;\n    }\n\n    .dataframe tbody tr th {\n        vertical-align: top;\n    }\n\n    .dataframe thead th {\n        text-align: right;\n    }\n</style>\n<table border=\"1\" class=\"dataframe\">\n  <thead>\n    <tr style=\"text-align: right;\">\n      <th></th>\n      <th>Number of customers</th>\n      <th>Day</th>\n      <th>weekday</th>\n      <th>isholiday</th>\n      <th>workingday</th>\n      <th>month</th>\n      <th>Season</th>\n      <th>Casual Customers</th>\n      <th>Registered Customers</th>\n    </tr>\n  </thead>\n  <tbody>\n    <tr>\n      <th>0</th>\n      <td>4540</td>\n      <td>2019-01-01</td>\n      <td>1</td>\n      <td>1</td>\n      <td>0</td>\n      <td>1</td>\n      <td>Winter</td>\n      <td>1083</td>\n      <td>3457</td>\n    </tr>\n    <tr>\n      <th>1</th>\n      <td>6567</td>\n      <td>2019-01-02</td>\n      <td>2</td>\n      <td>0</td>\n      <td>1</td>\n      <td>1</td>\n      <td>Winter</td>\n      <td>660</td>\n      <td>5907</td>\n    </tr>\n    <tr>\n      <th>2</th>\n      <td>7604</td>\n      <td>2019-01-03</td>\n      <td>3</td>\n      <td>0</td>\n      <td>1</td>\n      <td>1</td>\n      <td>Winter</td>\n      <td>938</td>\n      <td>6666</td>\n    </tr>\n    <tr>\n      <th>3</th>\n      <td>7362</td>\n      <td>2019-01-04</td>\n      <td>4</td>\n      <td>0</td>\n      <td>1</td>\n      <td>1</td>\n      <td>Winter</td>\n      <td>848</td>\n      <td>6514</td>\n    </tr>\n    <tr>\n      <th>4</th>\n      <td>5106</td>\n      <td>2019-01-05</td>\n      <td>5</td>\n      <td>0</td>\n      <td>1</td>\n      <td>1</td>\n      <td>Winter</td>\n      <td>701</td>\n      <td>4405</td>\n    </tr>\n  </tbody>\n</table>\n</div>"
     },
     "metadata": {},
     "execution_count": 162
    }
   ],
   "source": [
    "df['Casual Customers']=cdates\n",
    "df['Registered Customers']=mdates\n",
    "df.head()"
   ]
  },
  {
   "cell_type": "code",
   "execution_count": 44,
   "metadata": {},
   "outputs": [
    {
     "output_type": "stream",
     "name": "stdout",
     "text": [
      "<class 'pandas.core.frame.DataFrame'>\nInt64Index: 3398417 entries, 0 to 161877\nData columns (total 11 columns):\n #   Column                Dtype \n---  ------                ----- \n 0   Duration              int64 \n 1   Start date            object\n 2   End date              object\n 3   Start station number  int64 \n 4   Start station         object\n 5   End station number    int64 \n 6   End station           object\n 7   Bike number           object\n 8   Member type           object\n 9   month                 int64 \n 10  season                int64 \ndtypes: int64(5), object(6)\nmemory usage: 311.1+ MB\n"
     ]
    }
   ],
   "source": [
    "bike_data.info()"
   ]
  },
  {
   "cell_type": "code",
   "execution_count": 7,
   "metadata": {},
   "outputs": [],
   "source": [
    "bike_data['Start date']=pd.to_datetime(bike_data['Start date'])\n",
    "bike_data['End date']=pd.to_datetime(bike_data['End date'])"
   ]
  },
  {
   "cell_type": "code",
   "execution_count": 8,
   "metadata": {},
   "outputs": [],
   "source": [
    "\n",
    "bike_data['weekday']=(bike_data['Start date']).dt.weekday\n",
    "bike_data['hour']=(bike_data['Start date']).dt.hour"
   ]
  },
  {
   "cell_type": "code",
   "execution_count": 54,
   "metadata": {},
   "outputs": [
    {
     "output_type": "execute_result",
     "data": {
      "text/plain": [
       "   Duration          Start date            End date  Start station number  \\\n",
       "0       230 2019-01-01 00:04:48 2019-01-01 00:08:39                 31203   \n",
       "1      1549 2019-01-01 00:06:37 2019-01-01 00:32:27                 31321   \n",
       "2       177 2019-01-01 00:08:46 2019-01-01 00:11:44                 31104   \n",
       "3       228 2019-01-01 00:08:47 2019-01-01 00:12:35                 31281   \n",
       "4      1300 2019-01-01 00:12:29 2019-01-01 00:34:10                 31014   \n",
       "\n",
       "                   Start station  End station number  \\\n",
       "0     14th & Rhode Island Ave NW               31200   \n",
       "1  15th St & Constitution Ave NW               31114   \n",
       "2    Adams Mill & Columbia Rd NW               31323   \n",
       "3                  8th & O St NW               31280   \n",
       "4           Lynn & 19th St North               31923   \n",
       "\n",
       "                                         End station Bike number Member type  \\\n",
       "0               Massachusetts Ave & Dupont Circle NW      E00141      Member   \n",
       "1                           18th St & Wyoming Ave NW      W24067      Casual   \n",
       "2  Woodley Park Metro / Calvert St & Connecticut ...      W22654      Casual   \n",
       "3                                     11th & S St NW      W22336      Member   \n",
       "4                        Columbia Pike & S Taylor St       70004      Member   \n",
       "\n",
       "   month  season  weekday  hour  \n",
       "0      1       1        1     0  \n",
       "1      1       1        1     0  \n",
       "2      1       1        1     0  \n",
       "3      1       1        1     0  \n",
       "4      1       1        1     0  "
      ],
      "text/html": "<div>\n<style scoped>\n    .dataframe tbody tr th:only-of-type {\n        vertical-align: middle;\n    }\n\n    .dataframe tbody tr th {\n        vertical-align: top;\n    }\n\n    .dataframe thead th {\n        text-align: right;\n    }\n</style>\n<table border=\"1\" class=\"dataframe\">\n  <thead>\n    <tr style=\"text-align: right;\">\n      <th></th>\n      <th>Duration</th>\n      <th>Start date</th>\n      <th>End date</th>\n      <th>Start station number</th>\n      <th>Start station</th>\n      <th>End station number</th>\n      <th>End station</th>\n      <th>Bike number</th>\n      <th>Member type</th>\n      <th>month</th>\n      <th>season</th>\n      <th>weekday</th>\n      <th>hour</th>\n    </tr>\n  </thead>\n  <tbody>\n    <tr>\n      <th>0</th>\n      <td>230</td>\n      <td>2019-01-01 00:04:48</td>\n      <td>2019-01-01 00:08:39</td>\n      <td>31203</td>\n      <td>14th &amp; Rhode Island Ave NW</td>\n      <td>31200</td>\n      <td>Massachusetts Ave &amp; Dupont Circle NW</td>\n      <td>E00141</td>\n      <td>Member</td>\n      <td>1</td>\n      <td>1</td>\n      <td>1</td>\n      <td>0</td>\n    </tr>\n    <tr>\n      <th>1</th>\n      <td>1549</td>\n      <td>2019-01-01 00:06:37</td>\n      <td>2019-01-01 00:32:27</td>\n      <td>31321</td>\n      <td>15th St &amp; Constitution Ave NW</td>\n      <td>31114</td>\n      <td>18th St &amp; Wyoming Ave NW</td>\n      <td>W24067</td>\n      <td>Casual</td>\n      <td>1</td>\n      <td>1</td>\n      <td>1</td>\n      <td>0</td>\n    </tr>\n    <tr>\n      <th>2</th>\n      <td>177</td>\n      <td>2019-01-01 00:08:46</td>\n      <td>2019-01-01 00:11:44</td>\n      <td>31104</td>\n      <td>Adams Mill &amp; Columbia Rd NW</td>\n      <td>31323</td>\n      <td>Woodley Park Metro / Calvert St &amp; Connecticut ...</td>\n      <td>W22654</td>\n      <td>Casual</td>\n      <td>1</td>\n      <td>1</td>\n      <td>1</td>\n      <td>0</td>\n    </tr>\n    <tr>\n      <th>3</th>\n      <td>228</td>\n      <td>2019-01-01 00:08:47</td>\n      <td>2019-01-01 00:12:35</td>\n      <td>31281</td>\n      <td>8th &amp; O St NW</td>\n      <td>31280</td>\n      <td>11th &amp; S St NW</td>\n      <td>W22336</td>\n      <td>Member</td>\n      <td>1</td>\n      <td>1</td>\n      <td>1</td>\n      <td>0</td>\n    </tr>\n    <tr>\n      <th>4</th>\n      <td>1300</td>\n      <td>2019-01-01 00:12:29</td>\n      <td>2019-01-01 00:34:10</td>\n      <td>31014</td>\n      <td>Lynn &amp; 19th St North</td>\n      <td>31923</td>\n      <td>Columbia Pike &amp; S Taylor St</td>\n      <td>70004</td>\n      <td>Member</td>\n      <td>1</td>\n      <td>1</td>\n      <td>1</td>\n      <td>0</td>\n    </tr>\n  </tbody>\n</table>\n</div>"
     },
     "metadata": {},
     "execution_count": 54
    }
   ],
   "source": [
    "bike_data.head()"
   ]
  },
  {
   "cell_type": "code",
   "execution_count": 41,
   "metadata": {},
   "outputs": [],
   "source": [
    "import holidays\n",
    "from datetime import datetime"
   ]
  },
  {
   "cell_type": "code",
   "execution_count": 29,
   "metadata": {},
   "outputs": [],
   "source": [
    "us_holidays=[]\n",
    "for dat in holidays.UnitedStates(years=2019).items():\n",
    "    us_holidays.append(str(dat[0]))"
   ]
  },
  {
   "cell_type": "code",
   "execution_count": 47,
   "metadata": {},
   "outputs": [
    {
     "output_type": "execute_result",
     "data": {
      "text/plain": [
       "True"
      ]
     },
     "metadata": {},
     "execution_count": 47
    }
   ],
   "source": [
    "('20'+((bike_data['Start date'].dt.date).iloc[0]).strftime(\"%y-%m-%d\")) in us_holidays"
   ]
  },
  {
   "cell_type": "code",
   "execution_count": 62,
   "metadata": {},
   "outputs": [
    {
     "output_type": "execute_result",
     "data": {
      "text/plain": [
       "0         0\n",
       "1         0\n",
       "2         0\n",
       "3         0\n",
       "4         0\n",
       "         ..\n",
       "161873    1\n",
       "161874    1\n",
       "161875    1\n",
       "161876    1\n",
       "161877    1\n",
       "Name: workingday, Length: 3398417, dtype: int64"
      ]
     },
     "metadata": {},
     "execution_count": 62
    }
   ],
   "source": [
    "bike_data['isholiday']=bike_data['Start date'].apply(lambda value: 1 if ('20'+(value.strftime(\"%y-%m-%d\")) in us_holidays) else 0)\n",
    "bike_data['workingday'] = bike_data[['isholiday','weekday']].apply(lambda x: 0 if (x['weekday'] in [6,7] or x['isholiday']==1) else 1, axis=1)\n",
    "\n",
    "# display updated DataFrame\n",
    "bike_data['workingday']"
   ]
  },
  {
   "cell_type": "code",
   "execution_count": 63,
   "metadata": {},
   "outputs": [
    {
     "output_type": "execute_result",
     "data": {
      "text/plain": [
       "   Duration          Start date            End date  Start station number  \\\n",
       "0       230 2019-01-01 00:04:48 2019-01-01 00:08:39                 31203   \n",
       "1      1549 2019-01-01 00:06:37 2019-01-01 00:32:27                 31321   \n",
       "2       177 2019-01-01 00:08:46 2019-01-01 00:11:44                 31104   \n",
       "3       228 2019-01-01 00:08:47 2019-01-01 00:12:35                 31281   \n",
       "4      1300 2019-01-01 00:12:29 2019-01-01 00:34:10                 31014   \n",
       "\n",
       "                   Start station  End station number  \\\n",
       "0     14th & Rhode Island Ave NW               31200   \n",
       "1  15th St & Constitution Ave NW               31114   \n",
       "2    Adams Mill & Columbia Rd NW               31323   \n",
       "3                  8th & O St NW               31280   \n",
       "4           Lynn & 19th St North               31923   \n",
       "\n",
       "                                         End station Bike number Member type  \\\n",
       "0               Massachusetts Ave & Dupont Circle NW      E00141      Member   \n",
       "1                           18th St & Wyoming Ave NW      W24067      Casual   \n",
       "2  Woodley Park Metro / Calvert St & Connecticut ...      W22654      Casual   \n",
       "3                                     11th & S St NW      W22336      Member   \n",
       "4                        Columbia Pike & S Taylor St       70004      Member   \n",
       "\n",
       "   month  season  weekday  hour  isholiday  workingday  \n",
       "0      1       1        1     0          1           0  \n",
       "1      1       1        1     0          1           0  \n",
       "2      1       1        1     0          1           0  \n",
       "3      1       1        1     0          1           0  \n",
       "4      1       1        1     0          1           0  "
      ],
      "text/html": "<div>\n<style scoped>\n    .dataframe tbody tr th:only-of-type {\n        vertical-align: middle;\n    }\n\n    .dataframe tbody tr th {\n        vertical-align: top;\n    }\n\n    .dataframe thead th {\n        text-align: right;\n    }\n</style>\n<table border=\"1\" class=\"dataframe\">\n  <thead>\n    <tr style=\"text-align: right;\">\n      <th></th>\n      <th>Duration</th>\n      <th>Start date</th>\n      <th>End date</th>\n      <th>Start station number</th>\n      <th>Start station</th>\n      <th>End station number</th>\n      <th>End station</th>\n      <th>Bike number</th>\n      <th>Member type</th>\n      <th>month</th>\n      <th>season</th>\n      <th>weekday</th>\n      <th>hour</th>\n      <th>isholiday</th>\n      <th>workingday</th>\n    </tr>\n  </thead>\n  <tbody>\n    <tr>\n      <th>0</th>\n      <td>230</td>\n      <td>2019-01-01 00:04:48</td>\n      <td>2019-01-01 00:08:39</td>\n      <td>31203</td>\n      <td>14th &amp; Rhode Island Ave NW</td>\n      <td>31200</td>\n      <td>Massachusetts Ave &amp; Dupont Circle NW</td>\n      <td>E00141</td>\n      <td>Member</td>\n      <td>1</td>\n      <td>1</td>\n      <td>1</td>\n      <td>0</td>\n      <td>1</td>\n      <td>0</td>\n    </tr>\n    <tr>\n      <th>1</th>\n      <td>1549</td>\n      <td>2019-01-01 00:06:37</td>\n      <td>2019-01-01 00:32:27</td>\n      <td>31321</td>\n      <td>15th St &amp; Constitution Ave NW</td>\n      <td>31114</td>\n      <td>18th St &amp; Wyoming Ave NW</td>\n      <td>W24067</td>\n      <td>Casual</td>\n      <td>1</td>\n      <td>1</td>\n      <td>1</td>\n      <td>0</td>\n      <td>1</td>\n      <td>0</td>\n    </tr>\n    <tr>\n      <th>2</th>\n      <td>177</td>\n      <td>2019-01-01 00:08:46</td>\n      <td>2019-01-01 00:11:44</td>\n      <td>31104</td>\n      <td>Adams Mill &amp; Columbia Rd NW</td>\n      <td>31323</td>\n      <td>Woodley Park Metro / Calvert St &amp; Connecticut ...</td>\n      <td>W22654</td>\n      <td>Casual</td>\n      <td>1</td>\n      <td>1</td>\n      <td>1</td>\n      <td>0</td>\n      <td>1</td>\n      <td>0</td>\n    </tr>\n    <tr>\n      <th>3</th>\n      <td>228</td>\n      <td>2019-01-01 00:08:47</td>\n      <td>2019-01-01 00:12:35</td>\n      <td>31281</td>\n      <td>8th &amp; O St NW</td>\n      <td>31280</td>\n      <td>11th &amp; S St NW</td>\n      <td>W22336</td>\n      <td>Member</td>\n      <td>1</td>\n      <td>1</td>\n      <td>1</td>\n      <td>0</td>\n      <td>1</td>\n      <td>0</td>\n    </tr>\n    <tr>\n      <th>4</th>\n      <td>1300</td>\n      <td>2019-01-01 00:12:29</td>\n      <td>2019-01-01 00:34:10</td>\n      <td>31014</td>\n      <td>Lynn &amp; 19th St North</td>\n      <td>31923</td>\n      <td>Columbia Pike &amp; S Taylor St</td>\n      <td>70004</td>\n      <td>Member</td>\n      <td>1</td>\n      <td>1</td>\n      <td>1</td>\n      <td>0</td>\n      <td>1</td>\n      <td>0</td>\n    </tr>\n  </tbody>\n</table>\n</div>"
     },
     "metadata": {},
     "execution_count": 63
    }
   ],
   "source": [
    "bike_data.head()"
   ]
  },
  {
   "cell_type": "code",
   "execution_count": 96,
   "metadata": {},
   "outputs": [],
   "source": [
    "from datetime import timedelta\n",
    "startyear=datetime(2019,1,1,0,0,0,0)\n",
    "bike_data['ordday']=(bike_data['Start date']-startyear).astype('timedelta64[D]')"
   ]
  },
  {
   "cell_type": "code",
   "execution_count": 102,
   "metadata": {},
   "outputs": [],
   "source": [
    "ordday=list(bike_data['ordday'])"
   ]
  },
  {
   "cell_type": "code",
   "execution_count": 106,
   "metadata": {},
   "outputs": [],
   "source": [
    "dates=[]\n",
    "for j in range(365):\n",
    "    dates.append(ordday.count(j))"
   ]
  },
  {
   "cell_type": "code",
   "execution_count": 105,
   "metadata": {},
   "outputs": [
    {
     "output_type": "execute_result",
     "data": {
      "text/plain": [
       "6567"
      ]
     },
     "metadata": {},
     "execution_count": 105
    }
   ],
   "source": [
    "ordday.count(1)"
   ]
  },
  {
   "cell_type": "code",
   "execution_count": 180,
   "metadata": {},
   "outputs": [],
   "source": [
    "JanWeather=pd.read_excel('Jan19.xlsx', engine='openpyxl')\n",
    "FebWeather=pd.read_excel('Feb19.xlsx', engine='openpyxl')\n",
    "MarWeather=pd.read_excel('Mar19.xlsx', engine='openpyxl')\n",
    "AprWeather=pd.read_excel('Apr19.xlsx', engine='openpyxl')\n",
    "MayWeather=pd.read_excel('May19.xlsx', engine='openpyxl')\n",
    "JunWeather=pd.read_excel('Jun19.xlsx', engine='openpyxl')\n",
    "JulWeather=pd.read_excel('Jul19.xlsx', engine='openpyxl')\n",
    "AugWeather=pd.read_excel('Aug19.xlsx', engine='openpyxl')\n",
    "SepWeather=pd.read_excel('Sep19.xlsx', engine='openpyxl')\n",
    "OctWeather=pd.read_excel('Oct19.xlsx', engine='openpyxl')\n",
    "NovWeather=pd.read_excel('Nov19.xlsx', engine='openpyxl')\n",
    "DecWeather=pd.read_excel('Dec19.xlsx', engine='openpyxl')\n",
    "\n",
    "\n"
   ]
  },
  {
   "cell_type": "code",
   "execution_count": 201,
   "metadata": {},
   "outputs": [],
   "source": [
    "df['AverageTemp']=(pd.concat([JanWeather['Unnamed: 2'][2:], FebWeather['Unnamed: 2'][1:], MarWeather['Unnamed: 2'][1:], AprWeather['Unnamed: 2'][1:], MayWeather['Unnamed: 2'][1:], JunWeather['Unnamed: 2'][1:], JulWeather['Unnamed: 2'][1:], AugWeather['Unnamed: 2'][1:], SepWeather.iloc[:,2], OctWeather['Unnamed: 2'][1:], NovWeather['Unnamed: 2'][1:], DecWeather['Unnamed: 2'][1:]])).values"
   ]
  },
  {
   "cell_type": "code",
   "execution_count": 202,
   "metadata": {},
   "outputs": [
    {
     "output_type": "execute_result",
     "data": {
      "text/plain": [
       "   Number of customers        Day  weekday  isholiday  workingday  month  \\\n",
       "0                 4540 2019-01-01        1          1           0      1   \n",
       "1                 6567 2019-01-02        2          0           1      1   \n",
       "2                 7604 2019-01-03        3          0           1      1   \n",
       "3                 7362 2019-01-04        4          0           1      1   \n",
       "4                 5106 2019-01-05        5          0           1      1   \n",
       "\n",
       "   Season  Casual Customers  Registered Customers AverageTemp  \n",
       "0  Winter              1083                  3457       56.1   \n",
       "1  Winter               660                  5907       45.6   \n",
       "2  Winter               938                  6666       46.6   \n",
       "3  Winter               848                  6514       45.0   \n",
       "4  Winter               701                  4405       48.8   "
      ],
      "text/html": "<div>\n<style scoped>\n    .dataframe tbody tr th:only-of-type {\n        vertical-align: middle;\n    }\n\n    .dataframe tbody tr th {\n        vertical-align: top;\n    }\n\n    .dataframe thead th {\n        text-align: right;\n    }\n</style>\n<table border=\"1\" class=\"dataframe\">\n  <thead>\n    <tr style=\"text-align: right;\">\n      <th></th>\n      <th>Number of customers</th>\n      <th>Day</th>\n      <th>weekday</th>\n      <th>isholiday</th>\n      <th>workingday</th>\n      <th>month</th>\n      <th>Season</th>\n      <th>Casual Customers</th>\n      <th>Registered Customers</th>\n      <th>AverageTemp</th>\n    </tr>\n  </thead>\n  <tbody>\n    <tr>\n      <th>0</th>\n      <td>4540</td>\n      <td>2019-01-01</td>\n      <td>1</td>\n      <td>1</td>\n      <td>0</td>\n      <td>1</td>\n      <td>Winter</td>\n      <td>1083</td>\n      <td>3457</td>\n      <td>56.1</td>\n    </tr>\n    <tr>\n      <th>1</th>\n      <td>6567</td>\n      <td>2019-01-02</td>\n      <td>2</td>\n      <td>0</td>\n      <td>1</td>\n      <td>1</td>\n      <td>Winter</td>\n      <td>660</td>\n      <td>5907</td>\n      <td>45.6</td>\n    </tr>\n    <tr>\n      <th>2</th>\n      <td>7604</td>\n      <td>2019-01-03</td>\n      <td>3</td>\n      <td>0</td>\n      <td>1</td>\n      <td>1</td>\n      <td>Winter</td>\n      <td>938</td>\n      <td>6666</td>\n      <td>46.6</td>\n    </tr>\n    <tr>\n      <th>3</th>\n      <td>7362</td>\n      <td>2019-01-04</td>\n      <td>4</td>\n      <td>0</td>\n      <td>1</td>\n      <td>1</td>\n      <td>Winter</td>\n      <td>848</td>\n      <td>6514</td>\n      <td>45.0</td>\n    </tr>\n    <tr>\n      <th>4</th>\n      <td>5106</td>\n      <td>2019-01-05</td>\n      <td>5</td>\n      <td>0</td>\n      <td>1</td>\n      <td>1</td>\n      <td>Winter</td>\n      <td>701</td>\n      <td>4405</td>\n      <td>48.8</td>\n    </tr>\n  </tbody>\n</table>\n</div>"
     },
     "metadata": {},
     "execution_count": 202
    }
   ],
   "source": [
    "df.head()"
   ]
  },
  {
   "cell_type": "code",
   "execution_count": 207,
   "metadata": {},
   "outputs": [],
   "source": [
    "df['Precipitation']=(pd.concat([JanWeather['Unnamed: 16'][2:], FebWeather['Precipitation (in)'][1:], MarWeather['Precipitation (in)'][1:], AprWeather['Precipitation (in)'][1:], MayWeather['Precipitation (in)'][1:], JunWeather['Precipitation (in)'][1:], JulWeather['Precipitation (in)'][1:], AugWeather['Precipitation (in)'][1:], SepWeather.iloc[:,16], OctWeather['Precipitation (in)'][1:], NovWeather['Precipitation (in)'][1:], DecWeather['Precipitation (in)'][1:]])).values"
   ]
  },
  {
   "cell_type": "code",
   "execution_count": 212,
   "metadata": {},
   "outputs": [],
   "source": [
    "df['Humidity']=(pd.concat([JanWeather['Unnamed: 8'][2:], FebWeather['Unnamed: 8'][1:], MarWeather['Unnamed: 8'][1:], AprWeather['Unnamed: 8'][1:], MayWeather['Unnamed: 8'][1:], JunWeather['Unnamed: 8'][1:], JulWeather['Unnamed: 8'][1:], AugWeather['Unnamed: 8'][1:], SepWeather.iloc[:,11], OctWeather['Unnamed: 8'][1:], NovWeather['Unnamed: 8'][1:], DecWeather['Unnamed: 8'][1:]])).values"
   ]
  },
  {
   "cell_type": "code",
   "execution_count": 215,
   "metadata": {},
   "outputs": [],
   "source": [
    "df['Windspeed']=(pd.concat([JanWeather['Unnamed: 11'][2:], FebWeather['Unnamed: 11'][1:], MarWeather['Unnamed: 11'][1:], AprWeather['Unnamed: 11'][1:], MayWeather['Unnamed: 11'][1:], JunWeather['Unnamed: 11'][1:], JulWeather['Unnamed: 11'][1:], AugWeather['Unnamed: 11'][1:], SepWeather.iloc[:,14], OctWeather['Unnamed: 11'][1:], NovWeather['Unnamed: 11'][1:], DecWeather['Unnamed: 11'][1:]])).values"
   ]
  },
  {
   "cell_type": "code",
   "execution_count": 214,
   "metadata": {},
   "outputs": [
    {
     "output_type": "execute_result",
     "data": {
      "text/plain": [
       "  Sep  Max    Avg  Min  Max .1 Avg .1 Min .1 Max .2 Avg .2 Min .2 Max .3  \\\n",
       "0   1   82   76.4   71     68   66.0     64     84   70.8     58     12    \n",
       "1   2   88   76.9   72     72   69.2     67     91   78.1     51     15    \n",
       "2   3   88   79.0   72     68   63.8     58     87   62.0     36     12    \n",
       "3   4   94   81.3   72     75   70.7     68     90   72.1     44     14    \n",
       "4   5   79   76.0   73     73   62.9     60     82   64.0     52     14    \n",
       "\n",
       "  Avg .3 Min .3 Max .4 Avg .4 Min .4 Total   \n",
       "0   8.2      5   30.3   30.2   30.2   0.00   \n",
       "1   8.4      0   30.1   30.0   29.9   0.00   \n",
       "2   6.9      0   30.1   30.0   30.0   0.05   \n",
       "3   8.7      0   30.0   29.9   29.9   0.00   \n",
       "4  11.0      6   30.1   30.0   29.9   0.02   "
      ],
      "text/html": "<div>\n<style scoped>\n    .dataframe tbody tr th:only-of-type {\n        vertical-align: middle;\n    }\n\n    .dataframe tbody tr th {\n        vertical-align: top;\n    }\n\n    .dataframe thead th {\n        text-align: right;\n    }\n</style>\n<table border=\"1\" class=\"dataframe\">\n  <thead>\n    <tr style=\"text-align: right;\">\n      <th></th>\n      <th>Sep</th>\n      <th>Max</th>\n      <th>Avg</th>\n      <th>Min</th>\n      <th>Max .1</th>\n      <th>Avg .1</th>\n      <th>Min .1</th>\n      <th>Max .2</th>\n      <th>Avg .2</th>\n      <th>Min .2</th>\n      <th>Max .3</th>\n      <th>Avg .3</th>\n      <th>Min .3</th>\n      <th>Max .4</th>\n      <th>Avg .4</th>\n      <th>Min .4</th>\n      <th>Total</th>\n    </tr>\n  </thead>\n  <tbody>\n    <tr>\n      <th>0</th>\n      <td>1</td>\n      <td>82</td>\n      <td>76.4</td>\n      <td>71</td>\n      <td>68</td>\n      <td>66.0</td>\n      <td>64</td>\n      <td>84</td>\n      <td>70.8</td>\n      <td>58</td>\n      <td>12</td>\n      <td>8.2</td>\n      <td>5</td>\n      <td>30.3</td>\n      <td>30.2</td>\n      <td>30.2</td>\n      <td>0.00</td>\n    </tr>\n    <tr>\n      <th>1</th>\n      <td>2</td>\n      <td>88</td>\n      <td>76.9</td>\n      <td>72</td>\n      <td>72</td>\n      <td>69.2</td>\n      <td>67</td>\n      <td>91</td>\n      <td>78.1</td>\n      <td>51</td>\n      <td>15</td>\n      <td>8.4</td>\n      <td>0</td>\n      <td>30.1</td>\n      <td>30.0</td>\n      <td>29.9</td>\n      <td>0.00</td>\n    </tr>\n    <tr>\n      <th>2</th>\n      <td>3</td>\n      <td>88</td>\n      <td>79.0</td>\n      <td>72</td>\n      <td>68</td>\n      <td>63.8</td>\n      <td>58</td>\n      <td>87</td>\n      <td>62.0</td>\n      <td>36</td>\n      <td>12</td>\n      <td>6.9</td>\n      <td>0</td>\n      <td>30.1</td>\n      <td>30.0</td>\n      <td>30.0</td>\n      <td>0.05</td>\n    </tr>\n    <tr>\n      <th>3</th>\n      <td>4</td>\n      <td>94</td>\n      <td>81.3</td>\n      <td>72</td>\n      <td>75</td>\n      <td>70.7</td>\n      <td>68</td>\n      <td>90</td>\n      <td>72.1</td>\n      <td>44</td>\n      <td>14</td>\n      <td>8.7</td>\n      <td>0</td>\n      <td>30.0</td>\n      <td>29.9</td>\n      <td>29.9</td>\n      <td>0.00</td>\n    </tr>\n    <tr>\n      <th>4</th>\n      <td>5</td>\n      <td>79</td>\n      <td>76.0</td>\n      <td>73</td>\n      <td>73</td>\n      <td>62.9</td>\n      <td>60</td>\n      <td>82</td>\n      <td>64.0</td>\n      <td>52</td>\n      <td>14</td>\n      <td>11.0</td>\n      <td>6</td>\n      <td>30.1</td>\n      <td>30.0</td>\n      <td>29.9</td>\n      <td>0.02</td>\n    </tr>\n  </tbody>\n</table>\n</div>"
     },
     "metadata": {},
     "execution_count": 214
    }
   ],
   "source": [
    "SepWeather.head()"
   ]
  },
  {
   "cell_type": "code",
   "execution_count": 216,
   "metadata": {},
   "outputs": [
    {
     "output_type": "execute_result",
     "data": {
      "text/plain": [
       "   Number of customers        Day  weekday  isholiday  workingday  month  \\\n",
       "0                 4540 2019-01-01        1          1           0      1   \n",
       "1                 6567 2019-01-02        2          0           1      1   \n",
       "2                 7604 2019-01-03        3          0           1      1   \n",
       "3                 7362 2019-01-04        4          0           1      1   \n",
       "4                 5106 2019-01-05        5          0           1      1   \n",
       "\n",
       "   Season  Casual Customers  Registered Customers AverageTemp Precipitation  \\\n",
       "0  Winter              1083                  3457       56.1          0.48    \n",
       "1  Winter               660                  5907       45.6          0.00    \n",
       "2  Winter               938                  6666       46.6          0.00    \n",
       "3  Winter               848                  6514       45.0          0.00    \n",
       "4  Winter               701                  4405       48.8          0.07    \n",
       "\n",
       "  Humidity Windspeed  \n",
       "0    71.5      13.1   \n",
       "1    69.0       5.5   \n",
       "2    63.3       6.6   \n",
       "3    79.8       5.8   \n",
       "4    78.6       8.9   "
      ],
      "text/html": "<div>\n<style scoped>\n    .dataframe tbody tr th:only-of-type {\n        vertical-align: middle;\n    }\n\n    .dataframe tbody tr th {\n        vertical-align: top;\n    }\n\n    .dataframe thead th {\n        text-align: right;\n    }\n</style>\n<table border=\"1\" class=\"dataframe\">\n  <thead>\n    <tr style=\"text-align: right;\">\n      <th></th>\n      <th>Number of customers</th>\n      <th>Day</th>\n      <th>weekday</th>\n      <th>isholiday</th>\n      <th>workingday</th>\n      <th>month</th>\n      <th>Season</th>\n      <th>Casual Customers</th>\n      <th>Registered Customers</th>\n      <th>AverageTemp</th>\n      <th>Precipitation</th>\n      <th>Humidity</th>\n      <th>Windspeed</th>\n    </tr>\n  </thead>\n  <tbody>\n    <tr>\n      <th>0</th>\n      <td>4540</td>\n      <td>2019-01-01</td>\n      <td>1</td>\n      <td>1</td>\n      <td>0</td>\n      <td>1</td>\n      <td>Winter</td>\n      <td>1083</td>\n      <td>3457</td>\n      <td>56.1</td>\n      <td>0.48</td>\n      <td>71.5</td>\n      <td>13.1</td>\n    </tr>\n    <tr>\n      <th>1</th>\n      <td>6567</td>\n      <td>2019-01-02</td>\n      <td>2</td>\n      <td>0</td>\n      <td>1</td>\n      <td>1</td>\n      <td>Winter</td>\n      <td>660</td>\n      <td>5907</td>\n      <td>45.6</td>\n      <td>0.00</td>\n      <td>69.0</td>\n      <td>5.5</td>\n    </tr>\n    <tr>\n      <th>2</th>\n      <td>7604</td>\n      <td>2019-01-03</td>\n      <td>3</td>\n      <td>0</td>\n      <td>1</td>\n      <td>1</td>\n      <td>Winter</td>\n      <td>938</td>\n      <td>6666</td>\n      <td>46.6</td>\n      <td>0.00</td>\n      <td>63.3</td>\n      <td>6.6</td>\n    </tr>\n    <tr>\n      <th>3</th>\n      <td>7362</td>\n      <td>2019-01-04</td>\n      <td>4</td>\n      <td>0</td>\n      <td>1</td>\n      <td>1</td>\n      <td>Winter</td>\n      <td>848</td>\n      <td>6514</td>\n      <td>45.0</td>\n      <td>0.00</td>\n      <td>79.8</td>\n      <td>5.8</td>\n    </tr>\n    <tr>\n      <th>4</th>\n      <td>5106</td>\n      <td>2019-01-05</td>\n      <td>5</td>\n      <td>0</td>\n      <td>1</td>\n      <td>1</td>\n      <td>Winter</td>\n      <td>701</td>\n      <td>4405</td>\n      <td>48.8</td>\n      <td>0.07</td>\n      <td>78.6</td>\n      <td>8.9</td>\n    </tr>\n  </tbody>\n</table>\n</div>"
     },
     "metadata": {},
     "execution_count": 216
    }
   ],
   "source": [
    "df.head()"
   ]
  },
  {
   "cell_type": "code",
   "execution_count": null,
   "metadata": {},
   "outputs": [],
   "source": [
    "#same data as in pre-made database! Great!"
   ]
  }
 ]
}