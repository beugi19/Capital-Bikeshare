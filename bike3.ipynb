{
 "metadata": {
  "language_info": {
   "codemirror_mode": {
    "name": "ipython",
    "version": 3
   },
   "file_extension": ".py",
   "mimetype": "text/x-python",
   "name": "python",
   "nbconvert_exporter": "python",
   "pygments_lexer": "ipython3",
   "version": "3.7.7-final"
  },
  "orig_nbformat": 2,
  "kernelspec": {
   "name": "python3",
   "display_name": "Python 3",
   "language": "python"
  }
 },
 "nbformat": 4,
 "nbformat_minor": 2,
 "cells": [
  {
   "cell_type": "code",
   "execution_count": 2,
   "metadata": {},
   "outputs": [],
   "source": [
    "import pandas as pd\n",
    "import numpy as np \n",
    "import seaborn as sns\n",
    "import matplotlib.pyplot as plt \n",
    "from sklearn.model_selection import train_test_split\n",
    "from collections import Counter\n",
    "from sklearn.preprocessing import StandardScaler\n",
    "from sklearn.preprocessing import LabelEncoder, OneHotEncoder\n",
    "from sklearn.metrics import accuracy_score, confusion_matrix"
   ]
  },
  {
   "cell_type": "code",
   "execution_count": 3,
   "metadata": {},
   "outputs": [],
   "source": [
    "df = pd.read_json('https://gbfs.capitalbikeshare.com/gbfs/en/station_status.json')"
   ]
  },
  {
   "cell_type": "code",
   "execution_count": 24,
   "metadata": {},
   "outputs": [
    {
     "output_type": "execute_result",
     "data": {
      "text/plain": [
       "621"
      ]
     },
     "metadata": {},
     "execution_count": 24
    }
   ],
   "source": [
    "len(df['data']['stations'])"
   ]
  },
  {
   "cell_type": "code",
   "execution_count": 35,
   "metadata": {},
   "outputs": [],
   "source": [
    "bikes_available=[]\n",
    "empty_stat=[]\n",
    "for i in range(621):\n",
    "        if (df['data']['stations'][i]['is_renting'])==1:\n",
    "            bikes_available.append(df['data']['stations'][i]['num_bikes_available']+df['data']['stations'][i]['num_ebikes_available'])\n",
    "            if(bikes_available[-1])==0:\n",
    "                empty_stat.append(df['data']['stations'][i]['station_id'])"
   ]
  },
  {
   "cell_type": "code",
   "execution_count": 36,
   "metadata": {},
   "outputs": [
    {
     "output_type": "execute_result",
     "data": {
      "text/plain": [
       "['7',\n",
       " '8',\n",
       " '26',\n",
       " '56',\n",
       " '102',\n",
       " '130',\n",
       " '140',\n",
       " '158',\n",
       " '166',\n",
       " '167',\n",
       " '182',\n",
       " '206',\n",
       " '255',\n",
       " '266',\n",
       " '332',\n",
       " '349',\n",
       " '400',\n",
       " '482',\n",
       " '487',\n",
       " '493',\n",
       " '495',\n",
       " '509',\n",
       " '645',\n",
       " '646',\n",
       " '648',\n",
       " '659']"
      ]
     },
     "metadata": {},
     "execution_count": 36
    }
   ],
   "source": [
    "empty_stat"
   ]
  },
  {
   "cell_type": "code",
   "execution_count": null,
   "metadata": {},
   "outputs": [],
   "source": []
  }
 ]
}